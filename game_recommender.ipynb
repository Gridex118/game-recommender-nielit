{
 "cells": [
  {
   "cell_type": "markdown",
   "id": "e3dcc393-e374-43b4-9d64-feba603affd1",
   "metadata": {},
   "source": [
    "Org, Jupyter Compatibility\n",
    "\n",
    "First, activate the environment that has a jupyter installation. Then\n",
    "load the `emacs/jupyter` package.\n",
    "\n",
    "``` commonlisp\n",
    "(myPython/activate-conda-env \"~/.opt/miniconda3/envs/nielit-project\")\n",
    "```\n",
    "\n",
    "This can be used to convert the `org` file into a `ipynb` file.\n",
    "\n",
    "``` shell\n",
    "pandoc game_recommender.org -o game_recommender.ipynb\n",
    "```"
   ]
  },
  {
   "cell_type": "markdown",
   "id": "e1fefe76-48d3-4dc4-9d43-38820504ec8c",
   "metadata": {},
   "source": [
    "# Imports"
   ]
  },
  {
   "cell_type": "code",
   "execution_count": 2,
   "id": "9fc61381-8536-48f0-98fc-e48cd9a55778",
   "metadata": {
    "noweb-ref": "common_imports",
    "results": "none"
   },
   "outputs": [],
   "source": [
    "import numpy as np\n",
    "import pandas as pd\n",
    "import matplotlib.pyplot as plt\n",
    "import seaborn as sns\n",
    "import json\n",
    "from sklearn.ensemble import RandomForestClassifier\n",
    "from sklearn.model_selection import train_test_split\n",
    "from sklearn.preprocessing import LabelEncoder\n",
    "from sklearn.metrics import classification_report"
   ]
  },
  {
   "cell_type": "markdown",
   "id": "68363486-792e-4d61-8acd-81cc60543739",
   "metadata": {},
   "source": [
    "# The Report"
   ]
  },
  {
   "cell_type": "markdown",
   "id": "ef11b22e-834f-49a5-91a9-03e7f410e92b",
   "metadata": {},
   "source": [
    "## The Problem Statement\n",
    "\n",
    "> Given a list of games previously played by a user, recommend new\n",
    "> games."
   ]
  },
  {
   "cell_type": "markdown",
   "id": "2e535e3f-6ad3-4150-abe0-a8fdd8e0dfee",
   "metadata": {},
   "source": [
    "## The Data Set\n",
    "\n",
    "The dataset was obtained from\n",
    "[Kaggle](https://www.kaggle.com/datasets/antonkozyriev/game-recommendations-on-steam?select=games.csv).\n",
    "It comprises of 4 files,\n",
    "\n",
    "games.csv  \n",
    "A record of games. Here, we are mainly interested in the title, ratings,\n",
    "and the final price.\n",
    "\n",
    "games_metadata.json  \n",
    "Provides the tags/genres for the games. This can be used to find\n",
    "similarities between games.\n",
    "\n",
    "users.csv  \n",
    "A list of users, the number of games they bought, and the number of\n",
    "times they reviewed anything. The number of games bought can be used to\n",
    "filter out a number of users from being considered.\n",
    "\n",
    "recommendations.csv  \n",
    "List of user reviews, in a form that answers if said user recommends a\n",
    "certain game or not."
   ]
  },
  {
   "cell_type": "markdown",
   "id": "1f80235c-3921-48ff-8594-ba0a7d30b336",
   "metadata": {},
   "source": [
    "## Data Cleaning"
   ]
  },
  {
   "cell_type": "markdown",
   "id": "8c688c25-e146-4706-8056-b60d98355ab9",
   "metadata": {},
   "source": [
    "It is worth noting that these files, `users` and `recommendations` in\n",
    "particular, are much too large. Quite a few fields are of no use to us."
   ]
  },
  {
   "cell_type": "markdown",
   "id": "170a7ec2-cf5f-4f12-a719-dc2adb7d1445",
   "metadata": {},
   "source": [
    "### Games"
   ]
  },
  {
   "cell_type": "code",
   "execution_count": 3,
   "id": "1fc056d6-ca6f-4dcf-8f9e-f2bb53f9be29",
   "metadata": {},
   "outputs": [
    {
     "data": {
      "text/html": [
       "<div>\n",
       "<style scoped>\n",
       "    .dataframe tbody tr th:only-of-type {\n",
       "        vertical-align: middle;\n",
       "    }\n",
       "\n",
       "    .dataframe tbody tr th {\n",
       "        vertical-align: top;\n",
       "    }\n",
       "\n",
       "    .dataframe thead th {\n",
       "        text-align: right;\n",
       "    }\n",
       "</style>\n",
       "<table border=\"1\" class=\"dataframe\">\n",
       "  <thead>\n",
       "    <tr style=\"text-align: right;\">\n",
       "      <th></th>\n",
       "      <th>app_id</th>\n",
       "      <th>title</th>\n",
       "      <th>date_release</th>\n",
       "      <th>win</th>\n",
       "      <th>mac</th>\n",
       "      <th>linux</th>\n",
       "      <th>rating</th>\n",
       "      <th>positive_ratio</th>\n",
       "      <th>user_reviews</th>\n",
       "      <th>price_final</th>\n",
       "      <th>price_original</th>\n",
       "      <th>discount</th>\n",
       "      <th>steam_deck</th>\n",
       "    </tr>\n",
       "  </thead>\n",
       "  <tbody>\n",
       "    <tr>\n",
       "      <th>0</th>\n",
       "      <td>13500</td>\n",
       "      <td>Prince of Persia: Warrior Within™</td>\n",
       "      <td>2008-11-21</td>\n",
       "      <td>True</td>\n",
       "      <td>False</td>\n",
       "      <td>False</td>\n",
       "      <td>Very Positive</td>\n",
       "      <td>84</td>\n",
       "      <td>2199</td>\n",
       "      <td>9.99</td>\n",
       "      <td>9.99</td>\n",
       "      <td>0.0</td>\n",
       "      <td>True</td>\n",
       "    </tr>\n",
       "    <tr>\n",
       "      <th>1</th>\n",
       "      <td>22364</td>\n",
       "      <td>BRINK: Agents of Change</td>\n",
       "      <td>2011-08-03</td>\n",
       "      <td>True</td>\n",
       "      <td>False</td>\n",
       "      <td>False</td>\n",
       "      <td>Positive</td>\n",
       "      <td>85</td>\n",
       "      <td>21</td>\n",
       "      <td>2.99</td>\n",
       "      <td>2.99</td>\n",
       "      <td>0.0</td>\n",
       "      <td>True</td>\n",
       "    </tr>\n",
       "    <tr>\n",
       "      <th>2</th>\n",
       "      <td>113020</td>\n",
       "      <td>Monaco: What's Yours Is Mine</td>\n",
       "      <td>2013-04-24</td>\n",
       "      <td>True</td>\n",
       "      <td>True</td>\n",
       "      <td>True</td>\n",
       "      <td>Very Positive</td>\n",
       "      <td>92</td>\n",
       "      <td>3722</td>\n",
       "      <td>14.99</td>\n",
       "      <td>14.99</td>\n",
       "      <td>0.0</td>\n",
       "      <td>True</td>\n",
       "    </tr>\n",
       "    <tr>\n",
       "      <th>3</th>\n",
       "      <td>226560</td>\n",
       "      <td>Escape Dead Island</td>\n",
       "      <td>2014-11-18</td>\n",
       "      <td>True</td>\n",
       "      <td>False</td>\n",
       "      <td>False</td>\n",
       "      <td>Mixed</td>\n",
       "      <td>61</td>\n",
       "      <td>873</td>\n",
       "      <td>14.99</td>\n",
       "      <td>14.99</td>\n",
       "      <td>0.0</td>\n",
       "      <td>True</td>\n",
       "    </tr>\n",
       "    <tr>\n",
       "      <th>4</th>\n",
       "      <td>249050</td>\n",
       "      <td>Dungeon of the ENDLESS™</td>\n",
       "      <td>2014-10-27</td>\n",
       "      <td>True</td>\n",
       "      <td>True</td>\n",
       "      <td>False</td>\n",
       "      <td>Very Positive</td>\n",
       "      <td>88</td>\n",
       "      <td>8784</td>\n",
       "      <td>11.99</td>\n",
       "      <td>11.99</td>\n",
       "      <td>0.0</td>\n",
       "      <td>True</td>\n",
       "    </tr>\n",
       "  </tbody>\n",
       "</table>\n",
       "</div>"
      ],
      "text/plain": [
       "   app_id                              title date_release   win    mac  linux  \\\n",
       "0   13500  Prince of Persia: Warrior Within™   2008-11-21  True  False  False   \n",
       "1   22364            BRINK: Agents of Change   2011-08-03  True  False  False   \n",
       "2  113020       Monaco: What's Yours Is Mine   2013-04-24  True   True   True   \n",
       "3  226560                 Escape Dead Island   2014-11-18  True  False  False   \n",
       "4  249050            Dungeon of the ENDLESS™   2014-10-27  True   True  False   \n",
       "\n",
       "          rating  positive_ratio  user_reviews  price_final  price_original  \\\n",
       "0  Very Positive              84          2199         9.99            9.99   \n",
       "1       Positive              85            21         2.99            2.99   \n",
       "2  Very Positive              92          3722        14.99           14.99   \n",
       "3          Mixed              61           873        14.99           14.99   \n",
       "4  Very Positive              88          8784        11.99           11.99   \n",
       "\n",
       "   discount  steam_deck  \n",
       "0       0.0        True  \n",
       "1       0.0        True  \n",
       "2       0.0        True  \n",
       "3       0.0        True  \n",
       "4       0.0        True  "
      ]
     },
     "execution_count": 3,
     "metadata": {},
     "output_type": "execute_result"
    }
   ],
   "source": [
    "games = pd.read_csv(\"games.csv\")\n",
    "games.head()\n"
   ]
  },
  {
   "cell_type": "markdown",
   "id": "360aac35-acbd-4a95-81bd-d55d90e74628",
   "metadata": {},
   "source": [
    "We are not concerned with the release dates, discounts or the original\n",
    "prices, only the final price of the game; we can safely drop the\n",
    "corresponding fields. We also have no use for the user review count here\n",
    "(will rely on the `recommendations` dataset) or the positive ratio (the\n",
    "rating sentament value suffices)."
   ]
  },
  {
   "cell_type": "code",
   "execution_count": 4,
   "id": "ca8a1d7f-8c61-49e4-a30a-1ac55fddb1b5",
   "metadata": {
    "results": "none"
   },
   "outputs": [],
   "source": [
    "games = games.drop([\"date_release\", \"price_original\", \"discount\", \"user_reviews\", \"positive_ratio\"], axis=1)\n"
   ]
  },
  {
   "cell_type": "markdown",
   "id": "e8fbc3ee-1e6a-458e-91c8-220601923888",
   "metadata": {},
   "source": [
    "It's pobably a lot more efficient to just target a single platform, so\n",
    "let's choose the one with the largest number of games compatible."
   ]
  },
  {
   "cell_type": "code",
   "execution_count": 5,
   "id": "a452b0f4-d26e-410d-ab53-2dc34d59a598",
   "metadata": {},
   "outputs": [
    {
     "data": {
      "image/png": "[encoded data removed]",
      "text/plain": [
       "<Figure size 640x480 with 1 Axes>"
      ]
     },
     "metadata": {},
     "output_type": "display_data"
    }
   ],
   "source": [
    "def plot_games_in_platform():\n",
    "    platforms: list[str] = [\"win\", \"steam_deck\", \"mac\", \"linux\"]\n",
    "    games_in_platform = games[platforms].sum()\n",
    "    plt.bar(games_in_platform.keys(), games_in_platform, color=sns.color_palette(\"pastel\"))\n",
    "    plt.title(\"Number of games compatible with each platform\")\n",
    "    plt.xlabel(\"Platform\")\n",
    "    plt.ylabel(\"Compatible games\")\n",
    "    plt.show()\n",
    "\n",
    "plot_games_in_platform()\n"
   ]
  },
  {
   "cell_type": "markdown",
   "id": "668ee4db-5db0-4b4b-89eb-d0b7ae9ae2f2",
   "metadata": {},
   "source": [
    "We note that the Stem Deck has the best compatibility, so, for\n",
    "simplicity's sake we assume that every user owns one, and we can drop\n",
    "the other 3."
   ]
  },
  {
   "cell_type": "code",
   "execution_count": 6,
   "id": "017a9a83-8dd4-48bc-83b1-bc7de6abcbdb",
   "metadata": {
    "results": "none"
   },
   "outputs": [],
   "source": [
    "games = games.drop([\"win\", \"linux\", \"mac\"], axis=1)\n"
   ]
  },
  {
   "cell_type": "markdown",
   "id": "09a7eeda-b929-4451-9579-6c7782ed0bb4",
   "metadata": {},
   "source": [
    "We also drop the games that are not compatible with the Steam Deck."
   ]
  },
  {
   "cell_type": "code",
   "execution_count": 7,
   "id": "4eab2780-0db3-4fe8-804a-9e7d34b69b5a",
   "metadata": {
    "results": "none"
   },
   "outputs": [],
   "source": [
    "games[\"steam_deck\"] = games[\"steam_deck\"].replace(False, np.nan)\n",
    "games = games.dropna(subset=[\"steam_deck\"])\n",
    "\n",
    "# We are done with the filtering so, this column too is unneeded\n",
    "games = games.drop([\"steam_deck\"], axis=1)\n"
   ]
  },
  {
   "cell_type": "markdown",
   "id": "d907d8ee-3a73-44a9-9764-b18edc0d90d1",
   "metadata": {},
   "source": [
    "This leaves us with,"
   ]
  },
  {
   "cell_type": "code",
   "execution_count": 8,
   "id": "5cc34ac5-d890-4750-a4cc-c5047c54159a",
   "metadata": {},
   "outputs": [
    {
     "data": {
      "text/plain": [
       "'50870 Entries'"
      ]
     },
     "execution_count": 8,
     "metadata": {},
     "output_type": "execute_result"
    }
   ],
   "source": [
    "remaining_game_entries = games.shape[0]\n",
    "f\"{remaining_game_entries} Entries\"\n"
   ]
  },
  {
   "cell_type": "markdown",
   "id": "e7e64f7d-db33-4e37-9fa6-42f9426922ee",
   "metadata": {},
   "source": [
    "Which is still very large, so we discard 30% of it"
   ]
  },
  {
   "cell_type": "code",
   "execution_count": 9,
   "id": "65ee3171-35cf-4f8a-a7fc-78b663b83a2a",
   "metadata": {},
   "outputs": [
    {
     "data": {
      "text/plain": [
       "'35609 Entries'"
      ]
     },
     "execution_count": 9,
     "metadata": {},
     "output_type": "execute_result"
    }
   ],
   "source": [
    "games = games.head(int(remaining_game_entries * 70 / 100))\n",
    "f\"{games.shape[0]} Entries\"\n"
   ]
  },
  {
   "cell_type": "markdown",
   "id": "372fdab8-f375-4c93-b7ee-64576f7e9536",
   "metadata": {},
   "source": [
    "Finally, we write this file to disk for future use."
   ]
  },
  {
   "cell_type": "code",
   "execution_count": null,
   "id": "66d6ebe4-411a-425b-bbb1-81de5fb351d1",
   "metadata": {
    "results": "none"
   },
   "outputs": [],
   "source": [
    "games.to_csv(\"games_processed.csv\", index=False)\n"
   ]
  },
  {
   "cell_type": "markdown",
   "id": "29a0e633-7c7e-4778-8eda-a5b6288ff8f9",
   "metadata": {},
   "source": [
    "### Game Metadata\n",
    "\n",
    "The original metadata file was badly formatted (set of top-level\n",
    "objects), so we use `jq` to fix it. Additionally, we drop the game\n",
    "description.\n",
    "\n",
    "``` shell\n",
    "jq -s 'del(.[].description)' games_metadata.json > games_metadata_slurp.json\n",
    "```\n",
    "\n",
    "Now, remove the entries that are no longer present in the games dataset,\n",
    "and write this to a new file."
   ]
  },
  {
   "cell_type": "code",
   "execution_count": null,
   "id": "8cb14316-3853-4b56-9e0e-61928c62999c",
   "metadata": {
    "results": "none"
   },
   "outputs": [],
   "source": [
    "with open(\"games_metadata_slurp.json\") as source:\n",
    "    games_metadata = json.load(source)\n",
    "games_metadata_filtered = [item for item in games_metadata\n",
    "                           if item.get(\"app_id\") in list(games[\"app_id\"])]\n",
    "with open(\"games_metadata_processed.json\", \"w\") as sink:\n",
    "    json.dump(games_metadata_filtered, sink)\n"
   ]
  },
  {
   "cell_type": "markdown",
   "id": "c7fa278a-aeef-4f5c-b084-1acc137a4cea",
   "metadata": {},
   "source": [
    "``` shell\n",
    "printf \"%s Entries\" $(jq '.[].app_id' games_metadata_processed.json| wc -l)\n",
    "```\n",
    "\n",
    "### Users"
   ]
  },
  {
   "cell_type": "code",
   "execution_count": 12,
   "id": "24dbbaf4-1170-41cd-99a7-7901dd75a30b",
   "metadata": {},
   "outputs": [
    {
     "data": {
      "text/html": [
       "<div>\n",
       "<style scoped>\n",
       "    .dataframe tbody tr th:only-of-type {\n",
       "        vertical-align: middle;\n",
       "    }\n",
       "\n",
       "    .dataframe tbody tr th {\n",
       "        vertical-align: top;\n",
       "    }\n",
       "\n",
       "    .dataframe thead th {\n",
       "        text-align: right;\n",
       "    }\n",
       "</style>\n",
       "<table border=\"1\" class=\"dataframe\">\n",
       "  <thead>\n",
       "    <tr style=\"text-align: right;\">\n",
       "      <th></th>\n",
       "      <th>user_id</th>\n",
       "      <th>products</th>\n",
       "      <th>reviews</th>\n",
       "    </tr>\n",
       "  </thead>\n",
       "  <tbody>\n",
       "    <tr>\n",
       "      <th>0</th>\n",
       "      <td>7360263</td>\n",
       "      <td>359</td>\n",
       "      <td>0</td>\n",
       "    </tr>\n",
       "    <tr>\n",
       "      <th>1</th>\n",
       "      <td>14020781</td>\n",
       "      <td>156</td>\n",
       "      <td>1</td>\n",
       "    </tr>\n",
       "    <tr>\n",
       "      <th>2</th>\n",
       "      <td>8762579</td>\n",
       "      <td>329</td>\n",
       "      <td>4</td>\n",
       "    </tr>\n",
       "    <tr>\n",
       "      <th>3</th>\n",
       "      <td>4820647</td>\n",
       "      <td>176</td>\n",
       "      <td>4</td>\n",
       "    </tr>\n",
       "    <tr>\n",
       "      <th>4</th>\n",
       "      <td>5167327</td>\n",
       "      <td>98</td>\n",
       "      <td>2</td>\n",
       "    </tr>\n",
       "  </tbody>\n",
       "</table>\n",
       "</div>"
      ],
      "text/plain": [
       "    user_id  products  reviews\n",
       "0   7360263       359        0\n",
       "1  14020781       156        1\n",
       "2   8762579       329        4\n",
       "3   4820647       176        4\n",
       "4   5167327        98        2"
      ]
     },
     "execution_count": 12,
     "metadata": {},
     "output_type": "execute_result"
    }
   ],
   "source": [
    "users = pd.read_csv(\"users.csv\")\n",
    "users.head()"
   ]
  },
  {
   "cell_type": "code",
   "execution_count": null,
   "id": "9899e63e-46c2-4200-979d-a2d1ab2ed124",
   "metadata": {},
   "outputs": [
    {
     "name": "stdout",
     "output_type": "stream",
     "text": [
      "\n",
      "14306064 rows\n"
     ]
    }
   ],
   "source": [
    "print(f\"\\n{users.shape[0]} rows\")"
   ]
  },
  {
   "cell_type": "markdown",
   "id": "4a3e81f9-e6ee-4627-a0f8-24254296ca5e",
   "metadata": {},
   "source": [
    "Inspecting the dataset, a number of users never bought any products,"
   ]
  },
  {
   "cell_type": "code",
   "execution_count": 13,
   "id": "2a9229a4-b849-4bfc-8233-5141ce494f20",
   "metadata": {},
   "outputs": [
    {
     "data": {
      "text/plain": [
       "np.int64(139318)"
      ]
     },
     "execution_count": 13,
     "metadata": {},
     "output_type": "execute_result"
    }
   ],
   "source": [
    "users[\"products\"] = users[\"products\"].replace(0, np.nan)\n",
    "users[\"products\"].isna().sum()\n"
   ]
  },
  {
   "cell_type": "markdown",
   "id": "bdd4781f-033e-4b9b-b298-393909e0c8af",
   "metadata": {},
   "source": [
    "We can ignore them since they do not help in making any predictions."
   ]
  },
  {
   "cell_type": "code",
   "execution_count": 14,
   "id": "6b48d3f3-bf84-4dd2-8d63-3a4056d8d278",
   "metadata": {},
   "outputs": [
    {
     "name": "stdout",
     "output_type": "stream",
     "text": [
      "14166746 rows\n"
     ]
    }
   ],
   "source": [
    "users = users.dropna(subset=[\"products\"])\n",
    "print(f\"{users.shape[0]} rows\")\n"
   ]
  },
  {
   "cell_type": "markdown",
   "id": "a5be2c4a-0628-4b48-bec1-8e83a8851fb4",
   "metadata": {},
   "source": [
    "This is still a very large dataset, and needs to be reduced.\n",
    "\n",
    "Using a scatterplot,"
   ]
  },
  {
   "cell_type": "code",
   "execution_count": 15,
   "id": "045e59ee-3631-4d40-9bf3-7dc353745344",
   "metadata": {},
   "outputs": [
    {
     "data": {
      "image/png": "[encoded data removed]",
      "text/plain": [
       "<Figure size 640x480 with 1 Axes>"
      ]
     },
     "metadata": {},
     "output_type": "display_data"
    }
   ],
   "source": [
    "sns.scatterplot(users, x=\"products\", y=\"reviews\")\n",
    "plt.title(\"Products Purchased v. Reviews Left\")\n",
    "plt.show()\n"
   ]
  },
  {
   "cell_type": "markdown",
   "id": "a99debdd-f50c-4da1-98dc-4f0e60dd85d4",
   "metadata": {},
   "source": [
    "We note that users who left the largest number of reviews bought\n",
    "somewhere under 10,000 games.\n",
    "\n",
    "We consider only a handful of users, preferring those who left a large\n",
    "number of reviews."
   ]
  },
  {
   "cell_type": "code",
   "execution_count": 16,
   "id": "990499ab-9643-41c2-8695-922119d0074f",
   "metadata": {
    "results": "none"
   },
   "outputs": [],
   "source": [
    "def get_reduced_users(users):\n",
    "    users_sorted_by_products = users.sort_values(\"reviews\", ascending=False)\n",
    "    LIMIT = 40000\n",
    "    return users_sorted_by_products.head(LIMIT)\n",
    "\n",
    "users = get_reduced_users(users)\n"
   ]
  },
  {
   "cell_type": "markdown",
   "id": "d1923960-33ea-4c2f-a8d0-cb261255ae07",
   "metadata": {},
   "source": [
    "Finally, we write the dataset into a new file,"
   ]
  },
  {
   "cell_type": "code",
   "execution_count": null,
   "id": "cbac7212-5c17-4fa1-a0ff-dffeb8870ecb",
   "metadata": {
    "results": "none"
   },
   "outputs": [],
   "source": [
    "users.to_csv(\"users_processed.csv\", index=False)\n"
   ]
  },
  {
   "cell_type": "markdown",
   "id": "82d2820f-58fb-4713-9e43-67deb545e625",
   "metadata": {},
   "source": [
    "### Recommendations"
   ]
  },
  {
   "cell_type": "code",
   "execution_count": null,
   "id": "2b7c7d99-adb4-4396-860c-aeddeb6a4e1a",
   "metadata": {},
   "outputs": [],
   "source": [
    "recommendations = pd.read_csv(\"recommendations.csv\", index_col=\"review_id\")\n",
    "print(recommendations.head())\n",
    "print(f\"\\n{recommendations.shape[0]} Entries\")\n"
   ]
  },
  {
   "cell_type": "markdown",
   "id": "89513c28-4e78-4051-b22d-7a255c5800be",
   "metadata": {},
   "source": [
    "The `funny` and `date` columns do not provide any useful information, so\n",
    "we drop them. We also drop the `helpful` column since we are only\n",
    "interested in user similarities."
   ]
  },
  {
   "cell_type": "code",
   "execution_count": null,
   "id": "99e18f4b-025a-4149-82bc-2fb89dcfb9a1",
   "metadata": {
    "results": "none"
   },
   "outputs": [],
   "source": [
    "recommendations = recommendations.drop([\"funny\", \"date\", \"helpful\"], axis=1)\n"
   ]
  },
  {
   "cell_type": "markdown",
   "id": "e91521fd-7824-4b5a-91f1-3c90a36a079e",
   "metadata": {},
   "source": [
    "We limit this dataset to contain only those games and users that we\n",
    "selected."
   ]
  },
  {
   "cell_type": "code",
   "execution_count": null,
   "id": "5d4985bc-beaa-40a4-882b-e8d7e0770d52",
   "metadata": {},
   "outputs": [],
   "source": [
    "recommendations = recommendations[\n",
    "    recommendations[\"app_id\"].isin(games[\"app_id\"])\n",
    "    & recommendations[\"user_id\"].isin(users[\"user_id\"])\n",
    "]\n",
    "\n",
    "print(f\"{recommendations.shape[0]} Entries\")\n"
   ]
  },
  {
   "cell_type": "markdown",
   "id": "03bf8ff7-8e83-4461-ad06-80399232e9b3",
   "metadata": {},
   "source": [
    "Since the games and users were filtered out indepedant of each other, we\n",
    "can not say for sure that each user left as many reviews as reported in\n",
    "the users dataset. So, we drop off the users with a low review count."
   ]
  },
  {
   "cell_type": "code",
   "execution_count": null,
   "id": "ed0158ee-9ef4-4aae-a59a-99d836f64afe",
   "metadata": {},
   "outputs": [],
   "source": [
    "recommendations = recommendations.groupby(\"user_id\").filter(lambda x: len(x) > 50)\n",
    "\n",
    "print(f\"{recommendations.shape[0]} Entries\")\n"
   ]
  },
  {
   "cell_type": "markdown",
   "id": "ebebc35e-11c7-4c16-b4e9-16690a1d8cb5",
   "metadata": {},
   "source": [
    "*The `users` dataset will not be used further, so no point in updating\n",
    "it.* *The `games` dataset will be used for content based filtering, and\n",
    "can be used independant of the recommendations dataset*"
   ]
  },
  {
   "cell_type": "markdown",
   "id": "bdb06f31-fdcb-4546-abca-71a73343a25f",
   "metadata": {},
   "source": [
    "Saving this file,"
   ]
  },
  {
   "cell_type": "code",
   "execution_count": null,
   "id": "407d244b-a659-4756-82ad-7ca4b12fc11c",
   "metadata": {
    "results": "none"
   },
   "outputs": [],
   "source": [
    "recommendations.to_csv(\"recommendations_processed.csv\", index=False)\n"
   ]
  },
  {
   "cell_type": "markdown",
   "id": "b806e2e7-11a9-4484-bb3a-efa337246d31",
   "metadata": {},
   "source": [
    "## The Model"
   ]
  },
  {
   "cell_type": "markdown",
   "id": "2b77ecc3-3c66-4dff-a261-1624f0986fba",
   "metadata": {},
   "source": [
    "First, we make sure we are using the newly processed datasets."
   ]
  },
  {
   "cell_type": "code",
   "execution_count": 3,
   "id": "dc4fab8b-3222-4d89-8ec5-9d92869ca965",
   "metadata": {
    "results": "none"
   },
   "outputs": [],
   "source": [
    "games = pd.read_csv(\"games_processed.csv\")\n",
    "\n",
    "with open(\"games_metadata_processed.json\") as source:\n",
    "    games_metadata = json.load(source)\n",
    "games_metadata = pd.DataFrame(games_metadata)\n",
    "\n",
    "recommendations = pd.read_csv(\"recommendations_processed.csv\")\n"
   ]
  },
  {
   "cell_type": "markdown",
   "id": "42fa63b3-f325-40b6-87d6-a8b6a5010db3",
   "metadata": {},
   "source": [
    "Now, the following data is available to us:"
   ]
  },
  {
   "cell_type": "code",
   "execution_count": 4,
   "id": "33213d83-9ba5-40af-b54b-94b8cd94648b",
   "metadata": {},
   "outputs": [
    {
     "name": "stdout",
     "output_type": "stream",
     "text": [
      "Games: ['app_id', 'title', 'rating', 'price_final']\n",
      "GamesMetadata: ['app_id', 'tags']\n",
      "Recommendations: ['app_id', 'is_recommended', 'hours', 'user_id']\n"
     ]
    }
   ],
   "source": [
    "print(f\"Games: {list(games.keys())}\")\n",
    "print(f\"GamesMetadata: {list(games_metadata.keys())}\")\n",
    "print(f\"Recommendations: {list(recommendations.keys())}\")\n"
   ]
  },
  {
   "cell_type": "markdown",
   "id": "72b74daa-427f-48b2-854b-6342b49f5c21",
   "metadata": {},
   "source": [
    "The idea is to use the features of the games played by a user to test if\n",
    "they'd like an arbitrary game they haven't yet played. This is\n",
    "equivalent to classifying a new game into one of (\"will like\", \"won't\n",
    "like\"). The features we shall use are\n",
    "\n",
    "- Overall rating of the game (as it appears on the `steam` store)\n",
    "- The price\n",
    "- The games' genres/tags (this makes use of the `is_recommended` feature\n",
    "  from the `recommendations` dataset to select the tags preferred by the\n",
    "  user)"
   ]
  },
  {
   "cell_type": "markdown",
   "id": "67c73cf3-0b69-4441-a2cd-5c408dd3b8c2",
   "metadata": {},
   "source": [
    "### Some More Processing\n",
    "\n",
    "1.  Grouping the Game Prices\n",
    "\n",
    "    We shall group the game prices into\n",
    "\n",
    "    1.  Free (0)\n",
    "    2.  Budget (1) :: if its under \\$50\n",
    "    3.  Expensive (2)"
   ]
  },
  {
   "cell_type": "code",
   "execution_count": 5,
   "id": "bc2c7933-b63a-4562-8ef9-85f9e12459a9",
   "metadata": {},
   "outputs": [],
   "source": [
    "\n",
    "def classify_price(price: float) -> int:\n",
    "    return (\n",
    "        0 if price == 0\n",
    "        else 1 if price < 50\n",
    "        else 2\n",
    "    )"
   ]
  },
  {
   "cell_type": "markdown",
   "id": "d06dfa16-4def-4ff9-9f2b-a84b54ab2601",
   "metadata": {},
   "source": [
    "    After classifying the prices, we can drop the original `price_final` feature."
   ]
  },
  {
   "cell_type": "code",
   "execution_count": 6,
   "id": "05843610-9630-4ea4-9895-c5c77ac9879b",
   "metadata": {},
   "outputs": [],
   "source": [
    "games = games.assign(\n",
    "    price_category=games[\"price_final\"].apply(classify_price)\n",
    ")\n",
    "\n",
    "games = games.drop(\"price_final\", axis=1)"
   ]
  },
  {
   "cell_type": "markdown",
   "id": "0514b716-1365-43ea-8a3f-cbf47a1058aa",
   "metadata": {},
   "source": [
    "2.  Encode the Overall Rating"
   ]
  },
  {
   "cell_type": "code",
   "execution_count": 7,
   "id": "59ba669f-96c8-4f03-9db7-21afc5f08e0a",
   "metadata": {},
   "outputs": [],
   "source": [
    "games[\"rating_encoded\"] = LabelEncoder().fit_transform(games[\"rating\"])\n",
    "games = games.drop(\"rating\", axis=1)"
   ]
  },
  {
   "cell_type": "markdown",
   "id": "e0a7bc96-82d1-42d0-af66-e03488913a8f",
   "metadata": {},
   "source": [
    "3.  Unpacking the Genre information\n",
    "\n",
    "    It would be hard to compare genre lists, so we unpack them into\n",
    "    binary columns of their own."
   ]
  },
  {
   "cell_type": "code",
   "execution_count": 8,
   "id": "469c2f8c-2245-4c06-a608-723368890aa4",
   "metadata": {},
   "outputs": [
    {
     "data": {
      "text/plain": [
       "'441 tags in total'"
      ]
     },
     "execution_count": 8,
     "metadata": {},
     "output_type": "execute_result"
    }
   ],
   "source": [
    "games_metadata[\"tags\"] = games_metadata[\"tags\"].apply(\n",
    "    lambda tags: tags if isinstance(tags, list) else []\n",
    ")\n",
    "all_tags = set(tag for tags in games_metadata[\"tags\"] for tag in tags)\n",
    "\n",
    "f\"{len(all_tags)} tags in total\""
   ]
  },
  {
   "cell_type": "markdown",
   "id": "5ac2170c-c311-472c-8551-692e28b46153",
   "metadata": {},
   "source": [
    "    Now, there are a lot of tags, so we keep only the more commonly\n",
    "    recurring ones,"
   ]
  },
  {
   "cell_type": "code",
   "execution_count": 9,
   "id": "e7e02d16-b3c7-4074-9740-8278e73d5569",
   "metadata": {},
   "outputs": [
    {
     "data": {
      "image/png": "[encoded data removed]",
      "text/plain": [
       "<Figure size 640x480 with 1 Axes>"
      ]
     },
     "metadata": {},
     "output_type": "display_data"
    }
   ],
   "source": [
    "def plot_genre_distribution():\n",
    "    THRESHOLD = 5000\n",
    "    tags = games_metadata[\"tags\"].explode()\n",
    "    tag_counts = tags.value_counts()\n",
    "    valid_tags = tag_counts[tag_counts >= THRESHOLD].keys()\n",
    "    tags = tags[tags.isin(valid_tags)].value_counts()\n",
    "    tags.plot.pie(autopct=\"%1.1f%%\")\n",
    "    plt.show()\n",
    "\n",
    "plot_genre_distribution()"
   ]
  },
  {
   "cell_type": "markdown",
   "id": "85764c09-73af-4abe-beb6-5cb203d31fe7",
   "metadata": {},
   "source": [
    "Apparently, Indie games make up most of the steam library."
   ]
  },
  {
   "cell_type": "code",
   "execution_count": 10,
   "id": "7672b51c-77e2-4c41-94ea-b1c076824a5b",
   "metadata": {},
   "outputs": [
    {
     "data": {
      "text/plain": [
       "'48 tags'"
      ]
     },
     "execution_count": 10,
     "metadata": {},
     "output_type": "execute_result"
    }
   ],
   "source": [
    "def get_reduced_tags(all_tags):\n",
    "    MIN = 2000\n",
    "    tag_counts = games_metadata[\"tags\"].explode().value_counts()\n",
    "    return set(tag for tag in all_tags\n",
    "                if tag in tag_counts[tag_counts > MIN].keys())\n",
    "\n",
    "all_tags = get_reduced_tags(all_tags)\n",
    "f\"{len(all_tags)} tags\"\n"
   ]
  },
  {
   "cell_type": "code",
   "execution_count": 11,
   "id": "aa2120a6-a7a6-4cac-8413-8b42a2e76efb",
   "metadata": {},
   "outputs": [],
   "source": [
    "for tag in all_tags:\n",
    "    games_metadata[tag] = games_metadata[\"tags\"].apply(lambda tags: int(tag in tags))\n",
    "\n",
    "games_metadata = games_metadata.drop(\"tags\", axis=1)"
   ]
  },
  {
   "cell_type": "markdown",
   "id": "d7644a1c-9451-498a-a5d1-7434f7ed0268",
   "metadata": {},
   "source": [
    "### Merging the Datasets"
   ]
  },
  {
   "cell_type": "code",
   "execution_count": 12,
   "id": "15fbfb6a-7e9d-47c0-b6ff-774f5c0fecf2",
   "metadata": {
    "results": "none"
   },
   "outputs": [
    {
     "data": {
      "text/html": [
       "<div>\n",
       "<style scoped>\n",
       "    .dataframe tbody tr th:only-of-type {\n",
       "        vertical-align: middle;\n",
       "    }\n",
       "\n",
       "    .dataframe tbody tr th {\n",
       "        vertical-align: top;\n",
       "    }\n",
       "\n",
       "    .dataframe thead th {\n",
       "        text-align: right;\n",
       "    }\n",
       "</style>\n",
       "<table border=\"1\" class=\"dataframe\">\n",
       "  <thead>\n",
       "    <tr style=\"text-align: right;\">\n",
       "      <th></th>\n",
       "      <th>app_id</th>\n",
       "      <th>is_recommended</th>\n",
       "      <th>hours</th>\n",
       "      <th>user_id</th>\n",
       "      <th>title</th>\n",
       "      <th>price_category</th>\n",
       "      <th>rating_encoded</th>\n",
       "      <th>Exploration</th>\n",
       "      <th>First-Person</th>\n",
       "      <th>Fantasy</th>\n",
       "      <th>...</th>\n",
       "      <th>Singleplayer</th>\n",
       "      <th>Co-op</th>\n",
       "      <th>Sci-fi</th>\n",
       "      <th>Platformer</th>\n",
       "      <th>Visual Novel</th>\n",
       "      <th>Indie</th>\n",
       "      <th>Family Friendly</th>\n",
       "      <th>Arcade</th>\n",
       "      <th>Puzzle</th>\n",
       "      <th>Simulation</th>\n",
       "    </tr>\n",
       "  </thead>\n",
       "  <tbody>\n",
       "    <tr>\n",
       "      <th>0</th>\n",
       "      <td>435150</td>\n",
       "      <td>True</td>\n",
       "      <td>199.9</td>\n",
       "      <td>6334645</td>\n",
       "      <td>Divinity: Original Sin 2 - Definitive Edition</td>\n",
       "      <td>1</td>\n",
       "      <td>5</td>\n",
       "      <td>0</td>\n",
       "      <td>0</td>\n",
       "      <td>0</td>\n",
       "      <td>...</td>\n",
       "      <td>0</td>\n",
       "      <td>0</td>\n",
       "      <td>0</td>\n",
       "      <td>0</td>\n",
       "      <td>0</td>\n",
       "      <td>0</td>\n",
       "      <td>0</td>\n",
       "      <td>0</td>\n",
       "      <td>0</td>\n",
       "      <td>0</td>\n",
       "    </tr>\n",
       "    <tr>\n",
       "      <th>1</th>\n",
       "      <td>275850</td>\n",
       "      <td>True</td>\n",
       "      <td>13.6</td>\n",
       "      <td>6484333</td>\n",
       "      <td>No Man's Sky</td>\n",
       "      <td>2</td>\n",
       "      <td>2</td>\n",
       "      <td>0</td>\n",
       "      <td>0</td>\n",
       "      <td>0</td>\n",
       "      <td>...</td>\n",
       "      <td>0</td>\n",
       "      <td>0</td>\n",
       "      <td>0</td>\n",
       "      <td>0</td>\n",
       "      <td>0</td>\n",
       "      <td>0</td>\n",
       "      <td>0</td>\n",
       "      <td>0</td>\n",
       "      <td>0</td>\n",
       "      <td>0</td>\n",
       "    </tr>\n",
       "    <tr>\n",
       "      <th>2</th>\n",
       "      <td>105600</td>\n",
       "      <td>True</td>\n",
       "      <td>911.8</td>\n",
       "      <td>10383001</td>\n",
       "      <td>Terraria</td>\n",
       "      <td>1</td>\n",
       "      <td>5</td>\n",
       "      <td>0</td>\n",
       "      <td>0</td>\n",
       "      <td>0</td>\n",
       "      <td>...</td>\n",
       "      <td>0</td>\n",
       "      <td>0</td>\n",
       "      <td>0</td>\n",
       "      <td>0</td>\n",
       "      <td>0</td>\n",
       "      <td>0</td>\n",
       "      <td>0</td>\n",
       "      <td>0</td>\n",
       "      <td>0</td>\n",
       "      <td>0</td>\n",
       "    </tr>\n",
       "    <tr>\n",
       "      <th>3</th>\n",
       "      <td>1794680</td>\n",
       "      <td>True</td>\n",
       "      <td>77.3</td>\n",
       "      <td>11659871</td>\n",
       "      <td>Vampire Survivors</td>\n",
       "      <td>1</td>\n",
       "      <td>5</td>\n",
       "      <td>0</td>\n",
       "      <td>0</td>\n",
       "      <td>0</td>\n",
       "      <td>...</td>\n",
       "      <td>0</td>\n",
       "      <td>0</td>\n",
       "      <td>0</td>\n",
       "      <td>0</td>\n",
       "      <td>0</td>\n",
       "      <td>0</td>\n",
       "      <td>0</td>\n",
       "      <td>0</td>\n",
       "      <td>0</td>\n",
       "      <td>0</td>\n",
       "    </tr>\n",
       "    <tr>\n",
       "      <th>4</th>\n",
       "      <td>275850</td>\n",
       "      <td>True</td>\n",
       "      <td>84.6</td>\n",
       "      <td>4290516</td>\n",
       "      <td>No Man's Sky</td>\n",
       "      <td>2</td>\n",
       "      <td>2</td>\n",
       "      <td>0</td>\n",
       "      <td>0</td>\n",
       "      <td>0</td>\n",
       "      <td>...</td>\n",
       "      <td>0</td>\n",
       "      <td>0</td>\n",
       "      <td>0</td>\n",
       "      <td>0</td>\n",
       "      <td>0</td>\n",
       "      <td>0</td>\n",
       "      <td>0</td>\n",
       "      <td>0</td>\n",
       "      <td>0</td>\n",
       "      <td>0</td>\n",
       "    </tr>\n",
       "  </tbody>\n",
       "</table>\n",
       "<p>5 rows × 55 columns</p>\n",
       "</div>"
      ],
      "text/plain": [
       "    app_id  is_recommended  hours   user_id  \\\n",
       "0   435150            True  199.9   6334645   \n",
       "1   275850            True   13.6   6484333   \n",
       "2   105600            True  911.8  10383001   \n",
       "3  1794680            True   77.3  11659871   \n",
       "4   275850            True   84.6   4290516   \n",
       "\n",
       "                                           title  price_category  \\\n",
       "0  Divinity: Original Sin 2 - Definitive Edition               1   \n",
       "1                                   No Man's Sky               2   \n",
       "2                                       Terraria               1   \n",
       "3                              Vampire Survivors               1   \n",
       "4                                   No Man's Sky               2   \n",
       "\n",
       "   rating_encoded  Exploration  First-Person  Fantasy  ...  Singleplayer  \\\n",
       "0               5            0             0        0  ...             0   \n",
       "1               2            0             0        0  ...             0   \n",
       "2               5            0             0        0  ...             0   \n",
       "3               5            0             0        0  ...             0   \n",
       "4               2            0             0        0  ...             0   \n",
       "\n",
       "   Co-op  Sci-fi  Platformer  Visual Novel  Indie  Family Friendly  Arcade  \\\n",
       "0      0       0           0             0      0                0       0   \n",
       "1      0       0           0             0      0                0       0   \n",
       "2      0       0           0             0      0                0       0   \n",
       "3      0       0           0             0      0                0       0   \n",
       "4      0       0           0             0      0                0       0   \n",
       "\n",
       "   Puzzle  Simulation  \n",
       "0       0           0  \n",
       "1       0           0  \n",
       "2       0           0  \n",
       "3       0           0  \n",
       "4       0           0  \n",
       "\n",
       "[5 rows x 55 columns]"
      ]
     },
     "execution_count": 12,
     "metadata": {},
     "output_type": "execute_result"
    }
   ],
   "source": [
    "games_unified = games.merge(games_metadata, how=\"left\", on=\"app_id\")\n",
    "df = recommendations.merge(games_unified, how=\"left\", on=\"app_id\")\n",
    "\n",
    "df.head()"
   ]
  },
  {
   "cell_type": "markdown",
   "id": "0eebe350-db53-431c-9cc4-a149c6654968",
   "metadata": {},
   "source": [
    "### Training and Testing\n",
    "\n",
    "Now that we have a single unified dataset, we can use it for training\n",
    "our model.  \n",
    "The `app_id` provides us no more information than the game\n",
    "tags, rating and price, so we drop it, along with some other *useless*\n",
    "information."
   ]
  },
  {
   "cell_type": "code",
   "execution_count": 29,
   "id": "c1ff4fc9-8b20-4ede-b44a-fb0cf6dd7d3d",
   "metadata": {},
   "outputs": [
    {
     "name": "stdout",
     "output_type": "stream",
     "text": [
      "              precision    recall  f1-score   support\n",
      "\n",
      "       False       0.32      0.30      0.31    247686\n",
      "        True       0.81      0.83      0.82    877150\n",
      "\n",
      "    accuracy                           0.71   1124836\n",
      "   macro avg       0.57      0.56      0.56   1124836\n",
      "weighted avg       0.70      0.71      0.70   1124836\n",
      "\n"
     ]
    }
   ],
   "source": [
    "X = df.drop([\"app_id\", \"title\", \"is_recommended\", \"hours\"], axis=1)\n",
    "y = df[\"is_recommended\"]\n",
    "\n",
    "X_test, X_train, y_test, y_train = train_test_split(X, y, test_size=0.2, random_state=42)\n",
    "\n",
    "model = RandomForestClassifier(n_estimators=100, random_state=42)\n",
    "model.fit(X_train, y_train)\n",
    "\n",
    "y_pred = model.predict(X_test)\n",
    "print(classification_report(y_test, y_pred))\n"
   ]
  },
  {
   "cell_type": "markdown",
   "id": "e1ab11ee-3061-4ccb-b0a2-3e26806eb823",
   "metadata": {},
   "source": [
    "This model performs very poorly at answering if the user would dislike a\n",
    "game.  \n",
    "Our purpose for this model is, however, to recommend games that\n",
    "the user **might** like, which it does fairly well."
   ]
  },
  {
   "cell_type": "code",
   "execution_count": null,
   "id": "b18606f5-3b5e-4947-afb4-0d4fa64d0633",
   "metadata": {},
   "outputs": [],
   "source": []
  }
 ],
 "metadata": {
  "kernelspec": {
   "display_name": "Python 3 (ipykernel)",
   "language": "python",
   "name": "python3"
  },
  "language_info": {
   "codemirror_mode": {
    "name": "ipython",
    "version": 3
   },
   "file_extension": ".py",
   "mimetype": "text/x-python",
   "name": "python",
   "nbconvert_exporter": "python",
   "pygments_lexer": "ipython3",
   "version": "3.13.5"
  }
 },
 "nbformat": 4,
 "nbformat_minor": 5
}
