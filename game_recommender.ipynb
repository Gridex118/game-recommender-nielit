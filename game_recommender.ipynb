{
 "cells": [
  {
   "cell_type": "markdown",
   "id": "d7a74db9-e2bf-4739-9ea4-9a332ab28801",
   "metadata": {},
   "source": [
    "# Org, Jupyter Compatibility\n",
    "\n",
    "First, activate the environment that has a jupyter installation. Then\n",
    "load the `emacs/jupyter` package.\n",
    "\n",
    "``` commonlisp\n",
    "(myPython/activate-conda-env \"~/.opt/miniconda3/envs/nielit-project\")\n",
    "```\n",
    "\n",
    "This can be used to convert the `org` file into a `ipynb` file.\n",
    "\n",
    "``` shell\n",
    "pandoc game_recommender.org -o game_recommender.ipynb\n",
    "```\n",
    "\n",
    "# The Report\n",
    "\n",
    "## The Problem Statement\n",
    "\n",
    "> Given a list of games previously played by a user, recommend new\n",
    "> games.\n",
    "\n",
    "## Imports"
   ]
  },
  {
   "cell_type": "code",
   "execution_count": 1,
   "id": "3dec4ef3-b41e-46e5-a774-8457966f2491",
   "metadata": {
    "results": "none"
   },
   "outputs": [],
   "source": [
    "import numpy as np\n",
    "import pandas as pd\n",
    "import matplotlib.pyplot as plt\n",
    "import seaborn as sns\n"
   ]
  },
  {
   "cell_type": "markdown",
   "id": "002ebf30-d3dc-4b5e-8749-bed2ca867d6a",
   "metadata": {},
   "source": [
    "## The Data Set\n",
    "\n",
    "The dataset was obtained from\n",
    "[Kaggle](https://www.kaggle.com/datasets/antonkozyriev/game-recommendations-on-steam?select=games.csv).\n",
    "It comprises of 4 files,\n",
    "\n",
    "games.csv  \n",
    "A record of games. Here, we are mainly interested in the title, ratings,\n",
    "and the final price.\n",
    "\n",
    "games_metadata.json  \n",
    "Provides the tags/genres for the games. This can be used to find\n",
    "similarities between games.\n",
    "\n",
    "users.csv  \n",
    "A list of users, the number of games they bought, and the number of\n",
    "times they reviewed anything. The number of games bought can be used to\n",
    "filter out a number of users from being considered.\n",
    "\n",
    "recommendations.csv  \n",
    "List of user reviews, in a form that answers if said user recommends a\n",
    "certain game or not.\n",
    "\n",
    "## Data Cleaning\n",
    "\n",
    "It is worth noting that these files, `users` and `recommendations` in\n",
    "particular, are much too large. Quite a few fields are of no use to us.\n",
    "\n",
    "### Games"
   ]
  },
  {
   "cell_type": "code",
   "execution_count": 2,
   "id": "362ec774-0d87-4e62-b39f-7f331da04377",
   "metadata": {},
   "outputs": [
    {
     "name": "stdout",
     "output_type": "stream",
     "text": [
      "                                    title date_release   win    mac  linux  \\\n",
      "app_id                                                                       \n",
      "13500   Prince of Persia: Warrior Within™   2008-11-21  True  False  False   \n",
      "22364             BRINK: Agents of Change   2011-08-03  True  False  False   \n",
      "113020       Monaco: What's Yours Is Mine   2013-04-24  True   True   True   \n",
      "226560                 Escape Dead Island   2014-11-18  True  False  False   \n",
      "249050            Dungeon of the ENDLESS™   2014-10-27  True   True  False   \n",
      "\n",
      "               rating  positive_ratio  user_reviews  price_final  \\\n",
      "app_id                                                             \n",
      "13500   Very Positive              84          2199         9.99   \n",
      "22364        Positive              85            21         2.99   \n",
      "113020  Very Positive              92          3722        14.99   \n",
      "226560          Mixed              61           873        14.99   \n",
      "249050  Very Positive              88          8784        11.99   \n",
      "\n",
      "        price_original  discount  steam_deck  \n",
      "app_id                                        \n",
      "13500             9.99       0.0        True  \n",
      "22364             2.99       0.0        True  \n",
      "113020           14.99       0.0        True  \n",
      "226560           14.99       0.0        True  \n",
      "249050           11.99       0.0        True  \n"
     ]
    }
   ],
   "source": [
    "games = pd.read_csv(\"games.csv\", index_col=\"app_id\")\n",
    "games.head()\n"
   ]
  },
  {
   "cell_type": "markdown",
   "id": "5b4995c0-036e-4a51-9807-a4e38764857b",
   "metadata": {},
   "source": [
    "We are not concerned with the release dates, discounts or the original\n",
    "prices, only the final price of the game; we can safely drop the\n",
    "corresponding fields."
   ]
  },
  {
   "cell_type": "code",
   "execution_count": null,
   "id": "a5e25e0e-cf8d-4637-9a0c-432d6dffcbaf",
   "metadata": {
    "results": "none"
   },
   "outputs": [],
   "source": [
    "games = games.drop([\"date_release\", \"price_original\", \"discount\"], axis=1)\n"
   ]
  },
  {
   "cell_type": "markdown",
   "id": "158ad032-0e24-48e7-a506-1b75786987e5",
   "metadata": {},
   "source": [
    "It's pobably a lot more efficient to just target a single platform, so\n",
    "let's choose the one with the largest number of games compatible."
   ]
  },
  {
   "cell_type": "code",
   "execution_count": null,
   "id": "2b05a85c-adad-450f-a333-6d4e965464da",
   "metadata": {},
   "outputs": [],
   "source": [
    "def plot_games_in_platform():\n",
    "    platforms: list[str] = [\"win\", \"steam_deck\", \"mac\", \"linux\"]\n",
    "    games_in_platform = games[platforms].sum()\n",
    "    plt.bar(games_in_platform.keys(), games_in_platform, color=sns.color_palette(\"pastel\"))\n",
    "    plt.title(\"Number of games compatible with each platform\")\n",
    "    plt.xlabel(\"Platform\")\n",
    "    plt.ylabel(\"Compatible games\")\n",
    "    plt.show()\n",
    "\n",
    "plot_games_in_platform()\n"
   ]
  },
  {
   "cell_type": "markdown",
   "id": "21f1fac5-fca3-49f0-accc-d6ff59e81ee6",
   "metadata": {},
   "source": [
    "We note that the Stem Deck has the best compatibility, so, for\n",
    "simplicity's sake we assume that every user owns one, and we can drop\n",
    "the other 3."
   ]
  },
  {
   "cell_type": "code",
   "execution_count": null,
   "id": "dd64eb49-38fc-48a2-a378-dd5fa9d3e793",
   "metadata": {
    "results": "none"
   },
   "outputs": [],
   "source": [
    "games = games.drop([\"win\", \"linux\", \"mac\"], axis=1)\n"
   ]
  },
  {
   "cell_type": "markdown",
   "id": "ff8a7c9f-e535-4699-ab7e-c6ec2efbeab5",
   "metadata": {},
   "source": [
    "We also drop the games that are not compatible with the Steam Deck."
   ]
  },
  {
   "cell_type": "code",
   "execution_count": null,
   "id": "ca9df5d6-6162-4e09-a907-e355949af22d",
   "metadata": {
    "results": "none"
   },
   "outputs": [],
   "source": [
    "games[\"steam_deck\"] = games[\"steam_deck\"].replace(False, np.nan)\n",
    "games = games.dropna(subset=[\"steam_deck\"])\n"
   ]
  },
  {
   "cell_type": "markdown",
   "id": "8d721c84-26d2-452b-ba67-b5067c6fc17e",
   "metadata": {},
   "source": [
    "This leaves us with,"
   ]
  },
  {
   "cell_type": "code",
   "execution_count": null,
   "id": "36efc116-4a81-4cf1-8421-d4b8ea9d04b3",
   "metadata": {},
   "outputs": [],
   "source": [
    "remaining_game_entries = games.shape[0]\n",
    "f\"{remaining_game_entries} Entries\"\n"
   ]
  },
  {
   "cell_type": "markdown",
   "id": "f4037c7e-cc22-4dfd-bbe1-69b6d0f97c00",
   "metadata": {},
   "source": [
    "Which is still very large, so we discard 30% of it"
   ]
  },
  {
   "cell_type": "code",
   "execution_count": null,
   "id": "53f3eb21-2a3d-4ea3-a0aa-d012cdd889c9",
   "metadata": {},
   "outputs": [],
   "source": [
    "games = games.head(int(remaining_game_entries * 70 / 100))\n",
    "f\"{games.shape[0]} Entries\"\n"
   ]
  },
  {
   "cell_type": "markdown",
   "id": "9101a641-9800-4b41-b728-08f11f63207f",
   "metadata": {},
   "source": [
    "Finally, we write this file to disk for future use."
   ]
  },
  {
   "cell_type": "code",
   "execution_count": null,
   "id": "2e75f0d8-3219-4da9-bd51-1e504ee0a47f",
   "metadata": {
    "results": "none"
   },
   "outputs": [],
   "source": [
    "games.to_csv(\"games_processed.csv\")\n"
   ]
  }
 ],
 "metadata": {
  "kernelspec": {
   "display_name": "Python 3 (ipykernel)",
   "language": "python",
   "name": "python3"
  },
  "language_info": {
   "codemirror_mode": {
    "name": "ipython",
    "version": 3
   },
   "file_extension": ".py",
   "mimetype": "text/x-python",
   "name": "python",
   "nbconvert_exporter": "python",
   "pygments_lexer": "ipython3",
   "version": "3.13.5"
  }
 },
 "nbformat": 4,
 "nbformat_minor": 5
}
